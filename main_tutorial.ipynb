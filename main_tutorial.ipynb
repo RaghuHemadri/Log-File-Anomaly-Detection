{
 "cells": [
  {
   "cell_type": "code",
   "execution_count": 1,
   "id": "264d97b7",
   "metadata": {},
   "outputs": [],
   "source": [
    "import pandas as pd\n",
    "from collections import Counter\n",
    "from itertools import islice\n",
    "from sklearn.neural_network import MLPRegressor\n",
    "from time import time\n",
    "import matplotlib.pyplot as plt\n",
    "\n",
    "import gensim.parsing.preprocessing as gsp\n",
    "from gensim.parsing.preprocessing import preprocess_string\n",
    "\n",
    "import Drain\n",
    "from Doc2Vec import Doc2VecTransformer\n",
    "import utils"
   ]
  },
  {
   "cell_type": "code",
   "execution_count": 2,
   "id": "2119044a",
   "metadata": {},
   "outputs": [],
   "source": [
    "key_list = [\"Level\", \"Content\", \"EventTemplate\"]\n",
    "filters = [\n",
    "           gsp.strip_tags, \n",
    "           gsp.strip_punctuation,\n",
    "           gsp.strip_multiple_whitespaces,\n",
    "           gsp.strip_numeric,\n",
    "           gsp.remove_stopwords, \n",
    "          #  gsp.strip_short, \n",
    "           gsp.stem_text\n",
    "          ]"
   ]
  },
  {
   "cell_type": "code",
   "execution_count": 3,
   "id": "788df57c",
   "metadata": {},
   "outputs": [],
   "source": [
    "input_dir  = 'logs'\n",
    "output_dir = 'result/'\n",
    "log_file   = 'log.trc'\n",
    "log_format = '<Date> <Time> <time_zone> <Level> <Component> <log_tag> <Content>'\n",
    "\n",
    "pre_regex = [r'\\]',\n",
    "             r'\\[']\n",
    "regex      = [r'/[^\\/]+',\n",
    "              r'\\d+',\n",
    "              r'_[^\\/]+_']\n",
    "st         = 0.3\n",
    "depth      = 4"
   ]
  },
  {
   "cell_type": "code",
   "execution_count": 4,
   "id": "a5b840dc",
   "metadata": {},
   "outputs": [
    {
     "name": "stdout",
     "output_type": "stream",
     "text": [
      "Parsing file: logs/tfa_main.trc\n",
      "Processed 27.5% of log lines.\n",
      "Processed 55.0% of log lines.\n",
      "Processed 82.6% of log lines.\n",
      "Processed 100.0% of log lines.\n",
      "Parsing done. [Time taken: 0:00:00.449160]\n"
     ]
    },
    {
     "name": "stderr",
     "output_type": "stream",
     "text": [
      "<ipython-input-4-8e39dc9ba97a>:4: SettingWithCopyWarning: \n",
      "A value is trying to be set on a copy of a slice from a DataFrame.\n",
      "Try using .loc[row_indexer,col_indexer] = value instead\n",
      "\n",
      "See the caveats in the documentation: https://pandas.pydata.org/pandas-docs/stable/user_guide/indexing.html#returning-a-view-versus-a-copy\n",
      "  df[\"EventTemplate\"] = df[\"EventTemplate\"].map(lambda x: utils.clean_text(x, filters))\n"
     ]
    }
   ],
   "source": [
    "parser = Drain.LogParser(log_format, indir=input_dir, outdir=output_dir,  depth=depth, st=st, rex=regex, pre_rex = pre_regex)\n",
    "df = parser.parse(log_file)\n",
    "df = df[key_list]\n",
    "df[\"EventTemplate\"] = df[\"EventTemplate\"].map(lambda x: utils.clean_text(x, filters))"
   ]
  },
  {
   "cell_type": "code",
   "execution_count": 5,
   "id": "63cea304",
   "metadata": {},
   "outputs": [
    {
     "data": {
      "image/png": "[encoded data removed]",
      "text/plain": [
       "<Figure size 1296x432 with 1 Axes>"
      ]
     },
     "metadata": {
      "needs_background": "light"
     },
     "output_type": "display_data"
    }
   ],
   "source": [
    "aggregate_counter = Counter()\n",
    "for row_index,row in df.iterrows():\n",
    "    c = Counter(row[\"EventTemplate\"].split())\n",
    "    aggregate_counter += c\n",
    "\n",
    "common_words = [word[0] for word in aggregate_counter.most_common(50)]\n",
    "common_words_counts = [word[1] for word in aggregate_counter.most_common(50)]\n",
    "\n",
    "utils.barplot(words=common_words, words_counts=common_words_counts, title='Most Frequent Words used in Event Template')"
   ]
  },
  {
   "cell_type": "code",
   "execution_count": null,
   "id": "e8897e41",
   "metadata": {},
   "outputs": [],
   "source": [
    "all_word_counts = sorted(aggregate_counter.items(), key=utils.key_word_counter)\n",
    "uncommon_words = [word[0] for word in islice(all_word_counts, 50)]\n",
    "uncommon_word_counts = [word[1] for word in islice(all_word_counts, 50)]\n",
    "\n",
    "utils.barplot(words=uncommon_words, words_counts=uncommon_word_counts, title='Least Frequent Words used in Event Template')"
   ]
  },
  {
   "cell_type": "code",
   "execution_count": 6,
   "id": "a9365fdd",
   "metadata": {},
   "outputs": [
    {
     "name": "stderr",
     "output_type": "stream",
     "text": [
      "100%|██████████| 3634/3634 [00:00<00:00, 3201449.43it/s]\n",
      "100%|██████████| 3634/3634 [00:00<00:00, 3090450.27it/s]\n",
      "100%|██████████| 3634/3634 [00:00<00:00, 3765341.09it/s]\n",
      "100%|██████████| 3634/3634 [00:00<00:00, 4732102.06it/s]\n",
      "100%|██████████| 3634/3634 [00:00<00:00, 4055907.59it/s]\n",
      "100%|██████████| 3634/3634 [00:00<00:00, 4211688.52it/s]\n",
      "100%|██████████| 3634/3634 [00:00<00:00, 3124661.90it/s]\n",
      "100%|██████████| 3634/3634 [00:00<00:00, 3993214.76it/s]\n",
      "100%|██████████| 3634/3634 [00:00<00:00, 2601485.02it/s]\n",
      "100%|██████████| 3634/3634 [00:00<00:00, 2812195.71it/s]\n",
      "100%|██████████| 3634/3634 [00:00<00:00, 3531534.00it/s]\n",
      "100%|██████████| 3634/3634 [00:00<00:00, 3103665.39it/s]\n",
      "100%|██████████| 3634/3634 [00:00<00:00, 3882348.63it/s]\n",
      "100%|██████████| 3634/3634 [00:00<00:00, 3920293.40it/s]\n",
      "100%|██████████| 3634/3634 [00:00<00:00, 2164148.90it/s]\n",
      "100%|██████████| 3634/3634 [00:00<00:00, 2836795.22it/s]\n",
      "100%|██████████| 3634/3634 [00:00<00:00, 4937512.39it/s]\n",
      "100%|██████████| 3634/3634 [00:00<00:00, 4078699.69it/s]\n",
      "100%|██████████| 3634/3634 [00:00<00:00, 2250088.68it/s]\n",
      "100%|██████████| 3634/3634 [00:00<00:00, 2947041.91it/s]\n"
     ]
    }
   ],
   "source": [
    "doc2vec_tr = Doc2VecTransformer(vector_size=300, epochs=20)\n",
    "doc2vec_tr.fit(df)\n",
    "doc2vec_vectors = doc2vec_tr.transform(df)"
   ]
  },
  {
   "cell_type": "code",
   "execution_count": 7,
   "id": "1816fc37",
   "metadata": {},
   "outputs": [
    {
     "data": {
      "text/plain": [
       "MLPRegressor(hidden_layer_sizes=(600, 150, 600), max_iter=100)"
      ]
     },
     "execution_count": 7,
     "metadata": {},
     "output_type": "execute_result"
    }
   ],
   "source": [
    "auto_encoder = MLPRegressor(hidden_layer_sizes=(\n",
    "                                                 600,\n",
    "                                                 150,\n",
    "                                                 600,\n",
    "                                               ), max_iter = 100)\n",
    "auto_encoder.fit(doc2vec_vectors, doc2vec_vectors)"
   ]
  },
  {
   "cell_type": "code",
   "execution_count": 8,
   "id": "5b9220fc",
   "metadata": {},
   "outputs": [
    {
     "name": "stdout",
     "output_type": "stream",
     "text": [
      "Accuracy:  0.9933305279255478\n"
     ]
    }
   ],
   "source": [
    "predicted_vectors = auto_encoder.predict(doc2vec_vectors)\n",
    "\n",
    "print(\"Accuracy: \", auto_encoder.score(predicted_vectors, doc2vec_vectors))"
   ]
  },
  {
   "cell_type": "code",
   "execution_count": 9,
   "id": "c9169965",
   "metadata": {},
   "outputs": [],
   "source": [
    "sorted_cosine_similarities = utils.get_computed_similarities(vectors=doc2vec_vectors, predicted_vectors=predicted_vectors, df=df)\n",
    "utils.display_top_n(sorted_cosine_similarities=sorted_cosine_similarities, df=df, n=200)"
   ]
  },
  {
   "cell_type": "code",
   "execution_count": null,
   "id": "59c728f9",
   "metadata": {},
   "outputs": [],
   "source": []
  }
 ],
 "metadata": {
  "kernelspec": {
   "display_name": "Python 3",
   "language": "python",
   "name": "python3"
  },
  "language_info": {
   "codemirror_mode": {
    "name": "ipython",
    "version": 3
   },
   "file_extension": ".py",
   "mimetype": "text/x-python",
   "name": "python",
   "nbconvert_exporter": "python",
   "pygments_lexer": "ipython3",
   "version": "3.8.8"
  }
 },
 "nbformat": 4,
 "nbformat_minor": 5
}
